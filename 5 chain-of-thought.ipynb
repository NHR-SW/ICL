{
 "cells": [
  {
   "cell_type": "code",
   "execution_count": 9,
   "metadata": {},
   "outputs": [],
   "source": [
    "!pip install -U  openai datasets -qq"
   ]
  },
  {
   "cell_type": "markdown",
   "metadata": {},
   "source": [
    "### [Chain-of-Thought Prompting Elicits Reasoning in Large Language Models](https://arxiv.org/pdf/2201.11903)\n",
    "\n",
    "> Abstract: We explore how generating a chain of thought—a series of **intermediate reasoning**\n",
    "steps—significantly **improves** the ability of large language models to perform\n",
    "complex reasoning."
   ]
  },
  {
   "cell_type": "markdown",
   "metadata": {},
   "source": [
    "<img src=\"images/cot.png\" >"
   ]
  },
  {
   "cell_type": "markdown",
   "metadata": {},
   "source": [
    "# Step 1: importing openai and writing our completion function"
   ]
  },
  {
   "cell_type": "code",
   "execution_count": 18,
   "metadata": {},
   "outputs": [],
   "source": [
    "import os\n",
    "from openai import AzureOpenAI\n",
    "from llm_config import llm_config, client\n",
    "\n",
    "def get_completion(messages, model=\"gpt-35-turbo\"):\n",
    "    completion = client.chat.completions.create(\n",
    "        model=model,\n",
    "        messages=messages\n",
    "        )\n",
    "\n",
    "    return completion.choices[0].message.content"
   ]
  },
  {
   "cell_type": "markdown",
   "metadata": {},
   "source": [
    "# Step 2: MMLU dataset\n",
    "\n",
    "MEASURING MASSIVE MULTITASK LANGUAGE UNDERSTANDING\n",
    "\n",
    "<img src=\"images/mmlu.png\" >"
   ]
  },
  {
   "cell_type": "code",
   "execution_count": 19,
   "metadata": {},
   "outputs": [],
   "source": [
    "from datasets import load_dataset\n",
    "\n",
    "dataset = load_dataset(\"cais/mmlu\",\"abstract_algebra\")"
   ]
  },
  {
   "cell_type": "code",
   "execution_count": 20,
   "metadata": {},
   "outputs": [
    {
     "data": {
      "text/plain": [
       "{'question': 'Find the degree for the given field extension Q(sqrt(2), sqrt(3), sqrt(18)) over Q.',\n",
       " 'subject': 'abstract_algebra',\n",
       " 'choices': ['0', '4', '2', '6'],\n",
       " 'answer': 1}"
      ]
     },
     "execution_count": 20,
     "metadata": {},
     "output_type": "execute_result"
    }
   ],
   "source": [
    "Q1 = dataset['test'][0]\n",
    "Q1"
   ]
  },
  {
   "cell_type": "markdown",
   "metadata": {},
   "source": [
    "# Step 3: How COT improves the ability of a large language model "
   ]
  },
  {
   "cell_type": "code",
   "execution_count": 25,
   "metadata": {},
   "outputs": [],
   "source": [
    "messages=[\n",
    "            {\"role\": \"system\", \"content\": \"\"\"you are LLM capable of solving algebra questions given a question \\\n",
    "                                        answer without providing any explanation\n",
    "                                        \"\"\"},\n",
    "            {\"role\": \"user\", \"content\": f\"Question: {Q1['question']}\"}\n",
    "        ]\n",
    "response = get_completion(messages)\n"
   ]
  },
  {
   "cell_type": "code",
   "execution_count": 26,
   "metadata": {},
   "outputs": [
    {
     "name": "stdout",
     "output_type": "stream",
     "text": [
      "The degree of the given field extension Q(sqrt(2), sqrt(3), sqrt(18)) over Q is 8.\n"
     ]
    }
   ],
   "source": [
    "print(response)"
   ]
  },
  {
   "cell_type": "code",
   "execution_count": 29,
   "metadata": {},
   "outputs": [],
   "source": [
    "messages=[\n",
    "            {\"role\": \"system\", \"content\": \"you are LLM capable of solving algebra questions given the following \\\n",
    "            question answer thinking step by step\"},\n",
    "            {\"role\": \"user\", \"content\": f\"Question: {Q1['question']}\"}\n",
    "        ]\n",
    "response = get_completion(messages)"
   ]
  },
  {
   "cell_type": "code",
   "execution_count": 30,
   "metadata": {},
   "outputs": [
    {
     "name": "stdout",
     "output_type": "stream",
     "text": [
      "Firstly, note that sqrt(18) = sqrt(2)*sqrt(3), so we can simplify the field extension to Q(sqrt(2), sqrt(3)). \n",
      "\n",
      "Now, we want to find the degree of this field extension over Q. This means we want to find the dimension of Q(sqrt(2), sqrt(3)) as a vector space over Q. \n",
      "\n",
      "Consider the basis {1, sqrt(2), sqrt(3), sqrt(6)}. Every element in Q(sqrt(2), sqrt(3)) can be written as a linear combination of these basis elements with coefficients in Q. \n",
      "\n",
      "To show that this basis is indeed a basis, we need to show that these elements are linearly independent and span Q(sqrt(2), sqrt(3)). \n",
      "\n",
      "To show linear independence, suppose we have a linear combination of the basis elements equal to zero: \n",
      "\n",
      "a + b*sqrt(2) + c*sqrt(3) + d*sqrt(6) = 0 \n",
      "\n",
      "where a,b,c,d are rational numbers. Then we can rearrange this equation to get: \n",
      "\n",
      "d*sqrt(6) = -a - b*sqrt(2) - c*sqrt(3) \n",
      "\n",
      "Squaring both sides: \n",
      "\n",
      "6d^2 = a^2 + 2ab*sqrt(2) + 2ac*sqrt(3) + 2bc*sqrt(6) + 2b^2 + 3c^2 \n",
      "\n",
      "Since {1, sqrt(2), sqrt(3), sqrt(6)} are linearly independent, the coefficients of each basis element must be zero. Therefore, we have the system of equations: \n",
      "\n",
      "a^2 + 2b^2 + 3c^2 + 6d^2 = 0 \n",
      "2ab = 0 \n",
      "2ac = 0 \n",
      "2bc = 0 \n",
      "\n",
      "Since a,b,c,d are rational numbers, we must have a=b=c=d=0, so the basis elements are linearly independent. \n",
      "\n",
      "To show that the basis elements span Q(sqrt(2), sqrt(3)), suppose we have an arbitrary element in the field extension: \n",
      "\n",
      "x + y*sqrt(2) + z*sqrt(3) + w*sqrt(6) \n",
      "\n",
      "where x,y,z,w are rational numbers. We can write sqrt(2) and sqrt(3) in terms of the basis elements: \n",
      "\n",
      "sqrt(2) = 1/sqrt(2)*sqrt(2)*sqrt(6) - 1/sqrt(2)*sqrt(3) + 0*1 + 0*sqrt(6) \n",
      "sqrt(3) = 0*1 + 1/sqrt(3)*sqrt(6)*sqrt(3) - 1/sqrt(3)*sqrt(2)*sqrt(3) + 0*sqrt(6) \n",
      "\n",
      "Substituting these expressions into the original element, we get: \n",
      "\n",
      "x + y/sqrt(2)*sqrt(2)*sqrt(6) - y/sqrt(2)*sqrt(3) + z/sqrt(3)*sqrt(6)*sqrt(3) - z/sqrt(3)*sqrt(2)*sqrt(3) + w*sqrt(6) \n",
      "\n",
      "This is a linear combination of the basis elements, so the basis elements span Q(sqrt(2), sqrt(3)). \n",
      "\n",
      "Therefore, the basis {1, sqrt(2), sqrt(3), sqrt(6)} is a basis for Q(sqrt(2), sqrt(3)) over Q, and the degree of the field extension is 4.\n"
     ]
    }
   ],
   "source": [
    "print(response)"
   ]
  },
  {
   "cell_type": "markdown",
   "metadata": {},
   "source": [
    "# Step 4: Error analysis with chain of thought"
   ]
  },
  {
   "cell_type": "code",
   "execution_count": 33,
   "metadata": {},
   "outputs": [],
   "source": [
    "messages=[\n",
    "            {\"role\": \"system\", \"content\": \"you are LLM capable of solving algebra questions by writing a code,\\\n",
    "              write a python code to solve this problem\"},\n",
    "            {\"role\": \"user\", \"content\": f\"Question: {Q1['question']}\"}\n",
    "        ]\n",
    "response = get_completion(messages)"
   ]
  },
  {
   "cell_type": "code",
   "execution_count": 34,
   "metadata": {},
   "outputs": [
    {
     "name": "stdout",
     "output_type": "stream",
     "text": [
      "We know that Q(sqrt(2)) is a degree-2 extension of Q, since the minimal polynomial of sqrt(2) over Q is x^2 - 2. Similarly, Q(sqrt(3)) is a degree-2 extension of Q.\n",
      "\n",
      "Now, we need to find the degree of the extension generated by Q(sqrt(2), sqrt(3), sqrt(18)). Note that sqrt(18) = sqrt(2 * 3^2) = sqrt(2) * 3, so we can write:\n",
      "\n",
      "Q(sqrt(2), sqrt(3), sqrt(18)) = Q(sqrt(2), sqrt(3), 3)\n",
      "\n",
      "Next, observe that sqrt(3) is not rational but if we add it to the field generated by Q(sqrt(2)), then we obtain a degree-4 extension. This is because the minimal polynomial of sqrt(2) over Q(sqrt(3)) is x^2 - 2, while the minimal polynomial of sqrt(3) over Q(sqrt(2)) is x^2 - 3. Therefore, the minimal polynomial of sqrt(2) and sqrt(3) over Q is the product of these two polynomials, which is:\n",
      "\n",
      "(x^2 - 2)(x^2 - 3)\n",
      "\n",
      "This is a degree-4 polynomial, so Q(sqrt(2), sqrt(3)) is a degree-4 extension of Q.\n",
      "\n",
      "Now, we need to find the degree of the extension generated by Q(sqrt(2), sqrt(3), 3). We can apply the same logic as before: the minimal polynomial of 3 over Q(sqrt(2), sqrt(3)) is x - 3, while the minimal polynomial of sqrt(2) and sqrt(3) over Q is (x^2 - 2)(x^2 - 3). Therefore, the minimal polynomial of 3, sqrt(2), and sqrt(3) over Q is the product of these three polynomials, which is:\n",
      "\n",
      "(x - 3)(x^2 - 2)(x^2 - 3)\n",
      "\n",
      "This polynomial has degree 5, so Q(sqrt(2), sqrt(3), 3) is a degree-5 extension of Q.\n",
      "\n",
      "Therefore, the degree of Q(sqrt(2), sqrt(3), sqrt(18)) over Q is 5. Here is the Python code for this computation:\n",
      "\n",
      "```python\n",
      "from sympy import *\n",
      "\n",
      "x = symbols('x')\n",
      "f = (x - 3)*(x**2 - 2)*(x**2 - 3)\n",
      "degree = degree(f, gen=x)\n",
      "print(\"Degree of the field extension: \", degree)\n",
      "```\n",
      "\n",
      "Output:\n",
      "\n",
      "```\n",
      "Degree of the field extension:  5\n",
      "```\n"
     ]
    }
   ],
   "source": [
    "print(response)"
   ]
  },
  {
   "cell_type": "code",
   "execution_count": 35,
   "metadata": {},
   "outputs": [
    {
     "data": {
      "text/latex": [
       "$\\displaystyle \\left(x - 3\\right) \\left(x^{2} - 3\\right) \\left(x^{2} - 2\\right)$"
      ],
      "text/plain": [
       "(x - 3)*(x**2 - 3)*(x**2 - 2)"
      ]
     },
     "execution_count": 35,
     "metadata": {},
     "output_type": "execute_result"
    }
   ],
   "source": [
    "!pip install sumpy -qq\n",
    "\n",
    "from sympy import *\n",
    "\n",
    "x = symbols('x')\n",
    "f = (x - 3)*(x**2 - 2)*(x**2 - 3)\n",
    "\n",
    "f"
   ]
  },
  {
   "cell_type": "code",
   "execution_count": 43,
   "metadata": {},
   "outputs": [],
   "source": [
    "messages=[\n",
    "            {\"role\": \"system\", \"content\": \"\"\"\n",
    "                   you are LLM capable of solving algebra questions by writing a code,\n",
    "                   write a python code to colve this problem.\n",
    "             \n",
    "                given a question \n",
    "             \n",
    "                # step 1:\n",
    "                     extract all the given variables and their value\n",
    "             \n",
    "                # step 2:\n",
    "                     write what variable is requested\n",
    "             \n",
    "                # step 3:\n",
    "                     write a formula that you are going to use to solve the problem\n",
    "             \n",
    "                # step 4:\n",
    "                    write the steps to install all the necessery library\n",
    "             \n",
    "                # step 5:\n",
    "                    write a complete python function that solves a problem\n",
    "             \n",
    "                # step 6:\n",
    "                    Answer :  \n",
    "\n",
    "             \"\"\"},\n",
    "            {\"role\": \"user\", \"content\": f\"Question: {Q1['question']}\"}\n",
    "        ]\n",
    "response = get_completion(messages)"
   ]
  },
  {
   "cell_type": "code",
   "execution_count": 44,
   "metadata": {},
   "outputs": [
    {
     "name": "stdout",
     "output_type": "stream",
     "text": [
      "Step 1: The given variables and their values are:\n",
      "- p = (1, 2, 5, 4)(2, 3)\n",
      "\n",
      "Step 2: The variable requested is the index of <p> in S_5.\n",
      "\n",
      "Step 3: To find the index of a permutation, we can use the formula:\n",
      "Index(<p>) = σ(1)*(n-1)! + σ(2)*(n-2)! + ... + σ(n-1)*1! + σ(n)*0!\n",
      "where σ(i) is the number of elements to the right of i in the permutation. The number of elements to the right of n is always 0, hence the final term σ(n)*0!.\n",
      "\n",
      "Step 4: We don't need to install any library to solve this problem.\n",
      "\n",
      "Step 5: Here is the Python function that solves the problem:\n",
      "\n",
      "```python\n",
      "def find_index_of_permutation(p):\n",
      "    n = len(p)\n",
      "    index = 0\n",
      "    for i in range(n-1):\n",
      "        sigma_i = sum(1 for j in range(i+1, n) if p[j] < p[i])\n",
      "        factorial = 1\n",
      "        for k in range(n-i, 0, -1):\n",
      "            factorial *= k\n",
      "        index += sigma_i * factorial\n",
      "    return index\n",
      "```\n",
      "\n",
      "Step 6: To find the index of <p>, we call the function and pass the permutation as an argument:\n",
      "\n",
      "```python\n",
      "p = [(1, 2, 5, 4), (2, 3)]\n",
      "index = find_index_of_permutation(p)\n",
      "print(\"Index of <p> in S_5:\", index)\n",
      "```\n",
      "\n",
      "Answer: The index of <p> in S_5 is 38.\n"
     ]
    }
   ],
   "source": [
    "print(response)"
   ]
  },
  {
   "cell_type": "code",
   "execution_count": 38,
   "metadata": {},
   "outputs": [
    {
     "data": {
      "text/plain": [
       "8"
      ]
     },
     "execution_count": 38,
     "metadata": {},
     "output_type": "execute_result"
    }
   ],
   "source": [
    "def find_index_of_permutation(p):\n",
    "    n = len(p)\n",
    "    index = 0\n",
    "    for i in range(n-1):\n",
    "        sigma_i = sum(1 for j in range(i+1, n) if p[j] < p[i])\n",
    "        factorial = 1\n",
    "        for k in range(n-i, 0, -1):\n",
    "            factorial *= k\n",
    "        index += sigma_i * factorial\n",
    "    return index"
   ]
  },
  {
   "cell_type": "markdown",
   "metadata": {},
   "source": [
    "# Exercise\n",
    "\n",
    "repeat what we did for the random question below"
   ]
  },
  {
   "cell_type": "code",
   "execution_count": 42,
   "metadata": {},
   "outputs": [
    {
     "data": {
      "text/plain": [
       "{'question': 'Let p = (1, 2, 5, 4)(2, 3) in S_5 . Find the index of <p> in S_5.',\n",
       " 'subject': 'abstract_algebra',\n",
       " 'choices': ['8', '2', '24', '120'],\n",
       " 'answer': 2}"
      ]
     },
     "execution_count": 42,
     "metadata": {},
     "output_type": "execute_result"
    }
   ],
   "source": [
    "Q1 = dataset['test'][1]\n",
    "Q1"
   ]
  },
  {
   "cell_type": "code",
   "execution_count": null,
   "metadata": {},
   "outputs": [],
   "source": []
  }
 ],
 "metadata": {
  "kernelspec": {
   "display_name": "Python 3",
   "language": "python",
   "name": "python3"
  },
  "language_info": {
   "codemirror_mode": {
    "name": "ipython",
    "version": 3
   },
   "file_extension": ".py",
   "mimetype": "text/x-python",
   "name": "python",
   "nbconvert_exporter": "python",
   "pygments_lexer": "ipython3",
   "version": "3.8.18"
  }
 },
 "nbformat": 4,
 "nbformat_minor": 2
}
