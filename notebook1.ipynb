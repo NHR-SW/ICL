{
  "cells": [
    {
      "cell_type": "markdown",
      "metadata": {
        "id": "5TUF9t8DkBki"
      },
      "source": [
        "#**Basic in-context learning demonstration**\n",
        "\n",
        "In this first notebook, we will show a very simple introduction to in-context learning"
      ]
    },
    {
      "cell_type": "markdown",
      "metadata": {
        "id": "fhkMOok0kIRe"
      },
      "source": [
        "##Setup\n",
        "\n",
        "First, let's install and import the necessary libraries."
      ]
    },
    {
      "cell_type": "code",
      "execution_count": 1,
      "metadata": {
        "id": "_isxsfR9gcpO"
      },
      "outputs": [
        {
          "name": "stdout",
          "output_type": "stream",
          "text": [
            "Requirement already satisfied: openai in c:\\users\\usuaria\\appdata\\local\\packages\\pythonsoftwarefoundation.python.3.10_qbz5n2kfra8p0\\localcache\\local-packages\\python310\\site-packages (0.28.0)\n",
            "Requirement already satisfied: requests>=2.20 in c:\\users\\usuaria\\appdata\\local\\packages\\pythonsoftwarefoundation.python.3.10_qbz5n2kfra8p0\\localcache\\local-packages\\python310\\site-packages (from openai) (2.30.0)\n",
            "Requirement already satisfied: tqdm in c:\\users\\usuaria\\appdata\\local\\packages\\pythonsoftwarefoundation.python.3.10_qbz5n2kfra8p0\\localcache\\local-packages\\python310\\site-packages (from openai) (4.64.1)\n",
            "Requirement already satisfied: aiohttp in c:\\users\\usuaria\\appdata\\local\\packages\\pythonsoftwarefoundation.python.3.10_qbz5n2kfra8p0\\localcache\\local-packages\\python310\\site-packages (from openai) (3.8.4)\n",
            "Requirement already satisfied: charset-normalizer<4,>=2 in c:\\users\\usuaria\\appdata\\local\\packages\\pythonsoftwarefoundation.python.3.10_qbz5n2kfra8p0\\localcache\\local-packages\\python310\\site-packages (from requests>=2.20->openai) (3.1.0)\n",
            "Requirement already satisfied: idna<4,>=2.5 in c:\\users\\usuaria\\appdata\\local\\packages\\pythonsoftwarefoundation.python.3.10_qbz5n2kfra8p0\\localcache\\local-packages\\python310\\site-packages (from requests>=2.20->openai) (3.4)\n",
            "Requirement already satisfied: urllib3<3,>=1.21.1 in c:\\users\\usuaria\\appdata\\local\\packages\\pythonsoftwarefoundation.python.3.10_qbz5n2kfra8p0\\localcache\\local-packages\\python310\\site-packages (from requests>=2.20->openai) (2.0.2)\n",
            "Requirement already satisfied: certifi>=2017.4.17 in c:\\users\\usuaria\\appdata\\local\\packages\\pythonsoftwarefoundation.python.3.10_qbz5n2kfra8p0\\localcache\\local-packages\\python310\\site-packages (from requests>=2.20->openai) (2023.5.7)\n",
            "Requirement already satisfied: attrs>=17.3.0 in c:\\users\\usuaria\\appdata\\local\\packages\\pythonsoftwarefoundation.python.3.10_qbz5n2kfra8p0\\localcache\\local-packages\\python310\\site-packages (from aiohttp->openai) (23.1.0)\n",
            "Requirement already satisfied: multidict<7.0,>=4.5 in c:\\users\\usuaria\\appdata\\local\\packages\\pythonsoftwarefoundation.python.3.10_qbz5n2kfra8p0\\localcache\\local-packages\\python310\\site-packages (from aiohttp->openai) (6.0.4)\n",
            "Requirement already satisfied: async-timeout<5.0,>=4.0.0a3 in c:\\users\\usuaria\\appdata\\local\\packages\\pythonsoftwarefoundation.python.3.10_qbz5n2kfra8p0\\localcache\\local-packages\\python310\\site-packages (from aiohttp->openai) (4.0.2)\n",
            "Requirement already satisfied: yarl<2.0,>=1.0 in c:\\users\\usuaria\\appdata\\local\\packages\\pythonsoftwarefoundation.python.3.10_qbz5n2kfra8p0\\localcache\\local-packages\\python310\\site-packages (from aiohttp->openai) (1.9.2)\n",
            "Requirement already satisfied: frozenlist>=1.1.1 in c:\\users\\usuaria\\appdata\\local\\packages\\pythonsoftwarefoundation.python.3.10_qbz5n2kfra8p0\\localcache\\local-packages\\python310\\site-packages (from aiohttp->openai) (1.3.3)\n",
            "Requirement already satisfied: aiosignal>=1.1.2 in c:\\users\\usuaria\\appdata\\local\\packages\\pythonsoftwarefoundation.python.3.10_qbz5n2kfra8p0\\localcache\\local-packages\\python310\\site-packages (from aiohttp->openai) (1.3.1)\n",
            "Requirement already satisfied: colorama in c:\\users\\usuaria\\appdata\\local\\packages\\pythonsoftwarefoundation.python.3.10_qbz5n2kfra8p0\\localcache\\local-packages\\python310\\site-packages (from tqdm->openai) (0.4.6)\n"
          ]
        },
        {
          "name": "stderr",
          "output_type": "stream",
          "text": [
            "\n",
            "[notice] A new release of pip is available: 23.3.1 -> 24.0\n",
            "[notice] To update, run: C:\\Users\\Usuaria\\AppData\\Local\\Microsoft\\WindowsApps\\PythonSoftwareFoundation.Python.3.10_qbz5n2kfra8p0\\python.exe -m pip install --upgrade pip\n"
          ]
        },
        {
          "name": "stdout",
          "output_type": "stream",
          "text": [
            "adjustText==0.8\n",
            "aiofiles==22.1.0\n",
            "aiohttp==3.8.4\n",
            "aiosignal==1.3.1\n",
            "aiosqlite==0.19.0\n",
            "anyio==3.6.2\n",
            "appdirs==1.4.4\n",
            "argon2-cffi==21.3.0\n",
            "argon2-cffi-bindings==21.2.0\n",
            "arrow==1.2.3\n",
            "asttokens==2.2.1\n",
            "async-timeout==4.0.2\n",
            "attrdict==2.0.1\n",
            "attrs==23.1.0\n",
            "Babel==2.12.1\n",
            "backcall==0.2.0\n",
            "beautifulsoup4==4.12.2\n",
            "bleach==6.0.0\n",
            "bokeh==3.3.2\n",
            "certifi==2023.5.7\n",
            "cffi==1.15.1\n",
            "charset-normalizer==3.1.0\n",
            "click==8.1.7\n",
            "cloudpickle==3.0.0\n",
            "colorama==0.4.6\n",
            "colorcet==3.0.1\n",
            "comm==0.1.3\n",
            "contourpy==1.1.0\n",
            "cycler==0.11.0\n",
            "dask==2023.12.0\n",
            "datasets==2.12.0\n",
            "datashader==0.16.0\n",
            "debugpy==1.6.7\n",
            "decorator==5.1.1\n",
            "defusedxml==0.7.1\n",
            "dill==0.3.6\n",
            "docker-pycreds==0.4.0\n",
            "executing==1.2.0\n",
            "fastjsonschema==2.16.3\n",
            "filelock==3.9.0\n",
            "fonttools==4.42.0\n",
            "fqdn==1.5.1\n",
            "frozenlist==1.3.3\n",
            "fsspec==2023.5.0\n",
            "geomloss==0.2.6\n",
            "gitdb==4.0.10\n",
            "GitPython==3.1.38\n",
            "h5py==3.10.0\n",
            "holoviews==1.18.1\n",
            "huggingface-hub==0.12.0\n",
            "idna==3.4\n",
            "imageio==2.33.0\n",
            "importlib-metadata==7.0.0\n",
            "ipykernel==6.27.1\n",
            "ipython==8.13.2\n",
            "ipython-genutils==0.2.0\n",
            "isoduration==20.11.0\n",
            "jedi==0.18.2\n",
            "Jinja2==3.1.2\n",
            "joblib==1.3.1\n",
            "json5==0.9.11\n",
            "jsonpointer==2.3\n",
            "jsonschema==4.17.3\n",
            "jupyter-events==0.6.3\n",
            "jupyter-ydoc==0.2.4\n",
            "jupyter_client==8.2.0\n",
            "jupyter_core==5.3.0\n",
            "jupyter_server==2.5.0\n",
            "jupyter_server_fileid==0.9.0\n",
            "jupyter_server_terminals==0.4.4\n",
            "jupyter_server_ydoc==0.8.0\n",
            "jupyterlab==3.6.3\n",
            "jupyterlab-pygments==0.2.2\n",
            "jupyterlab_server==2.22.1\n",
            "kiwisolver==1.4.4\n",
            "lazy_loader==0.3\n",
            "linkify-it-py==2.0.2\n",
            "llvmlite==0.41.1\n",
            "locket==1.0.0\n",
            "Markdown==3.5.1\n",
            "markdown-it-py==3.0.0\n",
            "MarkupSafe==2.1.2\n",
            "matplotlib==3.7.2\n",
            "matplotlib-inline==0.1.6\n",
            "mdit-py-plugins==0.4.0\n",
            "mdurl==0.1.2\n",
            "mistune==2.0.5\n",
            "mpmath==1.3.0\n",
            "multidict==6.0.4\n",
            "multipledispatch==1.0.0\n",
            "multiprocess==0.70.14\n",
            "munkres==1.1.4\n",
            "nbclassic==1.0.0\n",
            "nbclient==0.7.4\n",
            "nbconvert==7.4.0\n",
            "nbformat==5.8.0\n",
            "nest-asyncio==1.5.6\n",
            "networkx==3.1\n",
            "notebook==6.5.4\n",
            "notebook_shim==0.2.3\n",
            "numba==0.58.1\n",
            "numpy==1.24.3\n",
            "openai==0.28.0\n",
            "packaging==23.1\n",
            "pandas==2.0.2\n",
            "pandocfilters==1.5.0\n",
            "panel==1.3.4\n",
            "param==2.0.1\n",
            "parso==0.8.3\n",
            "partd==1.4.1\n",
            "pathtools==0.1.2\n",
            "pickleshare==0.7.5\n",
            "Pillow==10.0.0\n",
            "platformdirs==3.5.1\n",
            "POT==0.9.1\n",
            "prometheus-client==0.16.0\n",
            "prompt-toolkit==3.0.38\n",
            "protobuf==3.20.2\n",
            "psutil==5.9.5\n",
            "pure-eval==0.2.2\n",
            "pyarrow==12.0.0\n",
            "pycparser==2.21\n",
            "pyct==0.5.0\n",
            "Pygments==2.15.1\n",
            "pynndescent==0.5.11\n",
            "pyparsing==3.0.9\n",
            "pyrsistent==0.19.3\n",
            "python-dateutil==2.8.2\n",
            "python-json-logger==2.0.7\n",
            "pytz==2023.3\n",
            "pyviz_comms==3.0.0\n",
            "pywin32==306\n",
            "pywinpty==2.0.10\n",
            "PyYAML==6.0\n",
            "pyzmq==25.0.2\n",
            "regex==2022.10.31\n",
            "requests==2.30.0\n",
            "responses==0.18.0\n",
            "rfc3339-validator==0.1.4\n",
            "rfc3986-validator==0.1.1\n",
            "safetensors==0.4.1\n",
            "scikit-image==0.22.0\n",
            "scikit-learn==1.3.0\n",
            "scipy==1.11.1\n",
            "seaborn==0.12.2\n",
            "Send2Trash==1.8.2\n",
            "sentencepiece==0.1.99\n",
            "sentry-sdk==1.32.0\n",
            "setproctitle==1.3.3\n",
            "six==1.16.0\n",
            "smmap==5.0.1\n",
            "sniffio==1.3.0\n",
            "soupsieve==2.4.1\n",
            "stack-data==0.6.2\n",
            "sympy==1.12\n",
            "terminado==0.17.1\n",
            "threadpoolctl==3.1.0\n",
            "tifffile==2023.9.26\n",
            "timm==0.9.12\n",
            "tinycss2==1.2.1\n",
            "tokenizer==3.4.2\n",
            "tokenizers==0.13.2\n",
            "tomli==2.0.1\n",
            "toolz==0.12.0\n",
            "torch==2.0.1\n",
            "torchvision==0.15.2\n",
            "tornado==6.3.1\n",
            "tqdm==4.64.1\n",
            "traitlets==5.9.0\n",
            "transformers==4.26.1\n",
            "typing_extensions==4.6.2\n",
            "tzdata==2023.3\n",
            "uc-micro-py==1.0.2\n",
            "umap-learn==0.5.5\n",
            "uri-template==1.2.0\n",
            "urllib3==2.0.2\n",
            "wandb==0.15.12\n",
            "wcwidth==0.2.6\n",
            "webcolors==1.13\n",
            "webencodings==0.5.1\n",
            "websocket-client==1.5.1\n",
            "xarray==2023.11.0\n",
            "xxhash==3.2.0\n",
            "xyzservices==2023.10.1\n",
            "y-py==0.5.9\n",
            "yarl==1.9.2\n",
            "ypy-websocket==0.8.2\n",
            "zipp==3.17.0\n"
          ]
        }
      ],
      "source": [
        "!pip install openai\n",
        "!pip freeze"
      ]
    },
    {
      "cell_type": "code",
      "execution_count": 2,
      "metadata": {
        "id": "N_-RDlLPgmhp"
      },
      "outputs": [
        {
          "ename": "ImportError",
          "evalue": "cannot import name 'AzureOpenAI' from 'openai' (C:\\Users\\Usuaria\\AppData\\Local\\Packages\\PythonSoftwareFoundation.Python.3.10_qbz5n2kfra8p0\\LocalCache\\local-packages\\Python310\\site-packages\\openai\\__init__.py)",
          "output_type": "error",
          "traceback": [
            "\u001b[1;31m---------------------------------------------------------------------------\u001b[0m",
            "\u001b[1;31mImportError\u001b[0m                               Traceback (most recent call last)",
            "Cell \u001b[1;32mIn[2], line 2\u001b[0m\n\u001b[0;32m      1\u001b[0m \u001b[38;5;28;01mimport\u001b[39;00m \u001b[38;5;21;01mos\u001b[39;00m\n\u001b[1;32m----> 2\u001b[0m \u001b[38;5;28;01mfrom\u001b[39;00m \u001b[38;5;21;01mopenai\u001b[39;00m \u001b[38;5;28;01mimport\u001b[39;00m AzureOpenAI\n\u001b[0;32m      4\u001b[0m client \u001b[38;5;241m=\u001b[39m AzureOpenAI(\n\u001b[0;32m      5\u001b[0m   api_key \u001b[38;5;241m=\u001b[39m \u001b[38;5;124m\"\u001b[39m\u001b[38;5;124m13d8d0888405404b9c1ee4407ad19226\u001b[39m\u001b[38;5;124m\"\u001b[39m,\n\u001b[0;32m      6\u001b[0m   api_version \u001b[38;5;241m=\u001b[39m \u001b[38;5;124m\"\u001b[39m\u001b[38;5;124m2023-07-01-preview\u001b[39m\u001b[38;5;124m\"\u001b[39m,\n\u001b[0;32m      7\u001b[0m   azure_endpoint \u001b[38;5;241m=\u001b[39m  \u001b[38;5;124m\"\u001b[39m\u001b[38;5;124mhttps://openai-resource-for-multilingual.openai.azure.com/\u001b[39m\u001b[38;5;124m\"\u001b[39m\n\u001b[0;32m      8\u001b[0m )\n",
            "\u001b[1;31mImportError\u001b[0m: cannot import name 'AzureOpenAI' from 'openai' (C:\\Users\\Usuaria\\AppData\\Local\\Packages\\PythonSoftwareFoundation.Python.3.10_qbz5n2kfra8p0\\LocalCache\\local-packages\\Python310\\site-packages\\openai\\__init__.py)"
          ]
        }
      ],
      "source": [
        "import os\n",
        "from openai import AzureOpenAI\n",
        "\n",
        "client = AzureOpenAI(\n",
        "  api_key = \"13d8d0888405404b9c1ee4407ad19226\",\n",
        "  api_version = \"2023-07-01-preview\",\n",
        "  azure_endpoint =  \"https://openai-resource-for-multilingual.openai.azure.com/\"\n",
        ")"
      ]
    },
    {
      "cell_type": "markdown",
      "metadata": {
        "id": "fiOJPM2skO3Z"
      },
      "source": [
        "During this hands-on session, we will use `gpt-3.5-turbo` and we will also use this helper function to easily test different in-context learning (ICL) approaches."
      ]
    },
    {
      "cell_type": "code",
      "execution_count": 28,
      "metadata": {
        "id": "JeIS34Whgsia"
      },
      "outputs": [],
      "source": [
        "def get_completion(prompt, model=\"gpt-35-turbo\"):\n",
        "    messages = [{\"role\": \"user\", \"content\": prompt}]\n",
        "    response = client.chat.completions.create(\n",
        "        model=model,\n",
        "        messages=messages,\n",
        "        temperature=0, # this is the degree of randomness of the model's output\n",
        "    )\n",
        "    #return response.choices[0].message[\"content\"]\n",
        "    return response.choices[0].message.content"
      ]
    },
    {
      "cell_type": "markdown",
      "metadata": {
        "id": "vt1824V4kUiG"
      },
      "source": [
        "##First steps\n",
        "\n",
        "As we have seen, LLM demonstrates an in-context learning (ICL) ability. In other words, they can learn from a few examples in the context. These examples are usually written in natural language templates. In this section, we will work with a couple of examples using sentiment analysis as our task."
      ]
    },
    {
      "cell_type": "code",
      "execution_count": null,
      "metadata": {
        "id": "J7f4E3fggwmB"
      },
      "outputs": [],
      "source": [
        "prompt = f\"\"\"\n",
        "Review: A wonderful little production. Sentiment: Positive \\\n",
        "Review: Wow, what a bad film. Sentiment:\n",
        "\"\"\"\n",
        "response = get_completion(prompt)\n",
        "print(response)"
      ]
    },
    {
      "cell_type": "markdown",
      "metadata": {
        "id": "1FldPrVykbGb"
      },
      "source": [
        "We could consider, for example, adding more demonstrations to our prompt.\n"
      ]
    },
    {
      "cell_type": "code",
      "execution_count": null,
      "metadata": {
        "id": "UuAucaYxjyDm"
      },
      "outputs": [],
      "source": [
        "prompt = f\"\"\"\n",
        "Review: A wonderful little production. Sentiment: Positive \\\n",
        "Review: Bad plot, bad dialogue, bad acting. Sentiment: Negative \\\n",
        "Review: Such a boring movie. Sentiment: Negative \\\n",
        "Review:  A realistic portrayal of daily urban routines. Sentiment: Neutral \\\n",
        "Review: Wow, what a bad film. Sentiment:\n",
        "\"\"\"\n",
        "response = get_completion(prompt)\n",
        "print(response)"
      ]
    },
    {
      "cell_type": "markdown",
      "metadata": {
        "id": "vCD5VTp3kc11"
      },
      "source": [
        "These were very basic templates, but there are several things we can play with in these prompts. For example, the formatting, the amount of demonstrations, the quality, the ordering, etc. For example, the same example we just tested can be reformated to:"
      ]
    },
    {
      "cell_type": "code",
      "execution_count": null,
      "metadata": {
        "id": "iCLuM3S2j2dC"
      },
      "outputs": [],
      "source": [
        "prompt = f\"\"\"\n",
        "You are an NLP assistant for sentiment analysis in English. Give your answer as \"positive\", \"negative\" or \"neutral\". \\\n",
        "Demonstration(s): A wonderful little production. What is the sentiment of this statement? Answer: Positive \\\n",
        "Test Input: Wow, what a bad film. What is the sentiment of this statement? Answer:\n",
        "\"\"\"\n",
        "response = get_completion(prompt)\n",
        "print(response)"
      ]
    }
  ],
  "metadata": {
    "colab": {
      "provenance": []
    },
    "kernelspec": {
      "display_name": "Python 3",
      "name": "python3"
    },
    "language_info": {
      "codemirror_mode": {
        "name": "ipython",
        "version": 3
      },
      "file_extension": ".py",
      "mimetype": "text/x-python",
      "name": "python",
      "nbconvert_exporter": "python",
      "pygments_lexer": "ipython3",
      "version": "3.10.11"
    }
  },
  "nbformat": 4,
  "nbformat_minor": 0
}
