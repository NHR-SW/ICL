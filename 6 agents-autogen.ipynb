{
 "cells": [
  {
   "cell_type": "code",
   "execution_count": 1,
   "metadata": {},
   "outputs": [],
   "source": [
    "!pip install -U pyautogen openai dataset -qq"
   ]
  },
  {
   "cell_type": "code",
   "execution_count": 75,
   "metadata": {},
   "outputs": [],
   "source": [
    "import autogen\n",
    "from autogen import ConversableAgent\n",
    "from llm_config import llm_config"
   ]
  },
  {
   "cell_type": "code",
   "execution_count": 76,
   "metadata": {},
   "outputs": [],
   "source": [
    "machine_translation_agent = ConversableAgent(\n",
    "    name=\"translation agent\",\n",
    "    system_message=\"\"\"You are a helpful agent which is capable of doing machine translation \n",
    "    from any language to english,\n",
    "    \"\"\",\n",
    "    llm_config=llm_config,\n",
    "    code_execution_config=False,\n",
    "    human_input_mode=\"NEVER\",\n",
    ")"
   ]
  },
  {
   "cell_type": "code",
   "execution_count": 77,
   "metadata": {},
   "outputs": [],
   "source": [
    "sentiment_analysis_agent = ConversableAgent(\n",
    "    name=\"Sentiment analysis agent\",\n",
    "    system_message=\"\"\"You are a helpful agent given english text you can classify \n",
    "    into one of the sentiment classes. the options are 'positive' 'negative' or 'neutral'\n",
    "    \"\"\",\n",
    "    llm_config=llm_config,\n",
    "    code_execution_config=False,\n",
    "    human_input_mode=\"NEVER\",\n",
    ")\n",
    "\n"
   ]
  },
  {
   "cell_type": "code",
   "execution_count": 78,
   "metadata": {},
   "outputs": [],
   "source": [
    "output_agent = ConversableAgent(\n",
    "    name=\"Output Agent\",\n",
    "    system_message=\"\"\"You are a helpful sentiment agent that tells the \n",
    "            the customer the setiment of their text and clear explanation why\n",
    "            \"\"\",\n",
    "    llm_config=llm_config,\n",
    "    code_execution_config=False,\n",
    "    human_input_mode=\"NEVER\",\n",
    "    is_termination_msg=lambda msg: \"terminate\" in msg.get(\"content\").lower(),\n",
    ")"
   ]
  },
  {
   "cell_type": "code",
   "execution_count": 79,
   "metadata": {},
   "outputs": [],
   "source": [
    "input_agent = ConversableAgent(\n",
    "    name=\"input_agent\",\n",
    "    llm_config=False,\n",
    "    code_execution_config=False,\n",
    "    human_input_mode=\"ALWAYS\",\n",
    "    is_termination_msg=lambda msg: \"terminate\" in msg.get(\"content\").lower(),\n",
    ")"
   ]
  },
  {
   "cell_type": "code",
   "execution_count": 85,
   "metadata": {},
   "outputs": [],
   "source": [
    "chats = [\n",
    "    {\n",
    "        \"sender\": machine_translation_agent,\n",
    "        \"recipient\": input_agent,\n",
    "        \"message\": \n",
    "            \"Hello, I'm here to help you identify sentiment of a text from any language\",\n",
    "        \"summary_method\": \"reflection_with_llm\",\n",
    "        \"summary_args\": {\n",
    "            \"summary_prompt\" : \"Return the translaton\"\n",
    "                             \"into as JSON object only: \"\n",
    "                             \"{'text': '', 'translation': ''}\",\n",
    "        },\n",
    "        \"max_turns\": 1,\n",
    "    },\n",
    "    {\n",
    "        \"sender\": machine_translation_agent, \n",
    "        \"recipient\": sentiment_analysis_agent,\n",
    "        \"summary_method\": \"reflection_with_llm\",\n",
    "        \"message\": \n",
    "            \"i will take the json and work on creating a sentoment from it\",\n",
    "        \"summary_args\": {\n",
    "            \"summary_prompt\" : \"Return the translaton\"\n",
    "                             \"into as JSON object only: \"\n",
    "                             \"{'text': '', 'sentiment': ''}\",\n",
    "        },\n",
    "        \"max_turns\": 1,\n",
    "    },\n",
    "    {\n",
    "        \"sender\": sentiment_analysis_agent,\n",
    "        \"recipient\": output_agent,\n",
    "        \"message\": \"here is what we know about your text.\",\n",
    "        \"max_turns\": 1,\n",
    "        \"summary_method\": \"reflection_with_llm\",\n",
    "    },\n",
    "]"
   ]
  },
  {
   "cell_type": "code",
   "execution_count": 86,
   "metadata": {},
   "outputs": [
    {
     "name": "stdout",
     "output_type": "stream",
     "text": [
      "\u001b[34m\n",
      "********************************************************************************\u001b[0m\n",
      "\u001b[34mStarting a new chat....\u001b[0m\n",
      "\u001b[34m\n",
      "********************************************************************************\u001b[0m\n",
      "\u001b[33mtranslation agent\u001b[0m (to input_agent):\n",
      "\n",
      "Hello, I'm here to help you identify sentiment of a text from any language\n",
      "\n",
      "--------------------------------------------------------------------------------\n",
      "\u001b[33minput_agent\u001b[0m (to translation agent):\n",
      "\n",
      "ሰላም ጥሩ ነው\n",
      "\n",
      "--------------------------------------------------------------------------------\n",
      "\u001b[34m\n",
      "********************************************************************************\u001b[0m\n",
      "\u001b[34mStarting a new chat....\u001b[0m\n",
      "\u001b[34m\n",
      "********************************************************************************\u001b[0m\n",
      "\u001b[33mtranslation agent\u001b[0m (to Sentiment analysis agent):\n",
      "\n",
      "i will take the json and work on creating a sentoment from it\n",
      "Context: \n",
      "Sure! Here's the translation and JSON object:\n",
      "\n",
      "Text: ሰላም ጥሩ ነው\n",
      "Translation: Hello, good morning\n",
      "\n",
      "JSON Object: {\"text\": \"ሰላም ጥሩ ነው\", \"translation\": \"Hello, good morning\"}\n",
      "\n",
      "--------------------------------------------------------------------------------\n",
      "\u001b[33mSentiment analysis agent\u001b[0m (to translation agent):\n",
      "\n",
      "Based on the provided text and translation, the sentiment appears to be neutral. There is no overtly positive or negative language used in the sentence, and the translation simply conveys a greeting. Therefore, the sentiment classification for this text and JSON object would be \"neutral\".\n",
      "\n",
      "--------------------------------------------------------------------------------\n",
      "\u001b[34m\n",
      "********************************************************************************\u001b[0m\n",
      "\u001b[34mStarting a new chat....\u001b[0m\n",
      "\u001b[34m\n",
      "********************************************************************************\u001b[0m\n",
      "\u001b[33mSentiment analysis agent\u001b[0m (to Output Agent):\n",
      "\n",
      "here is what we know about your text.\n",
      "Context: \n",
      "Sure! Here's the translation and JSON object:\n",
      "\n",
      "Text: ሰላም ጥሩ ነው\n",
      "Translation: Hello, good morning\n",
      "\n",
      "JSON Object: {\"text\": \"ሰላም ጥሩ ነው\", \"translation\": \"Hello, good morning\"}\n",
      "Sure, here's the JSON object with just the translation and sentiment keys:\n",
      "\n",
      "{\"text\": \"Hello, good morning\", \"sentiment\": \"neutral\"}\n",
      "\n",
      "--------------------------------------------------------------------------------\n",
      "\u001b[33mOutput Agent\u001b[0m (to Sentiment analysis agent):\n",
      "\n",
      "Based on the text you provided, the sentiment of \"Hello, good morning\" is classified as neutral. This means that the text does not convey any strong positive or negative emotions. It is simply a greeting expressing a polite and friendly tone.\n",
      "\n",
      "--------------------------------------------------------------------------------\n"
     ]
    }
   ],
   "source": [
    "from autogen import initiate_chats\n",
    "\n",
    "chat_results = initiate_chats(chats)\n"
   ]
  },
  {
   "cell_type": "code",
   "execution_count": 87,
   "metadata": {},
   "outputs": [
    {
     "name": "stdout",
     "output_type": "stream",
     "text": [
      "Sure! Here's the translation and JSON object:\n",
      "\n",
      "Text: ሰላም ጥሩ ነው\n",
      "Translation: Hello, good morning\n",
      "\n",
      "JSON Object: {\"text\": \"ሰላም ጥሩ ነው\", \"translation\": \"Hello, good morning\"}\n",
      "\n",
      "\n",
      "Sure, here's the JSON object with just the translation and sentiment keys:\n",
      "\n",
      "{\"text\": \"Hello, good morning\", \"sentiment\": \"neutral\"}\n",
      "\n",
      "\n",
      "The text \"ሰላም ጥሩ ነው\" was translated to \"Hello, good morning\" and the sentiment of the translated text is neutral.\n",
      "\n",
      "\n"
     ]
    }
   ],
   "source": [
    "for chat_result in chat_results:\n",
    "    print(chat_result.summary)\n",
    "    print(\"\\n\")\n",
    "    "
   ]
  },
  {
   "cell_type": "code",
   "execution_count": null,
   "metadata": {},
   "outputs": [],
   "source": []
  }
 ],
 "metadata": {
  "kernelspec": {
   "display_name": "Python 3",
   "language": "python",
   "name": "python3"
  },
  "language_info": {
   "codemirror_mode": {
    "name": "ipython",
    "version": 3
   },
   "file_extension": ".py",
   "mimetype": "text/x-python",
   "name": "python",
   "nbconvert_exporter": "python",
   "pygments_lexer": "ipython3",
   "version": "3.10.14"
  }
 },
 "nbformat": 4,
 "nbformat_minor": 2
}
