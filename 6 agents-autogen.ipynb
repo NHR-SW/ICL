{
 "cells": [
  {
   "cell_type": "code",
   "execution_count": 1,
   "metadata": {},
   "outputs": [],
   "source": [
    "!pip install -U pyautogen openai dataset -qq"
   ]
  },
  {
   "cell_type": "code",
   "execution_count": 45,
   "metadata": {},
   "outputs": [],
   "source": [
    "import autogen\n",
    "from autogen import ConversableAgent\n",
    "\n",
    "\n",
    "llm_config={\n",
    "    \"model\": \"gpt-35-turbo\",\n",
    "    \"api_type\": \"azure\",\n",
    "    \"api_key\": \"13d8d0888405404b9c1ee4407ad19226\",\n",
    "    \"base_url\": \"https://openai-resource-for-multilingual.openai.azure.com/\",\n",
    "    \"api_version\": \"2023-07-01-preview\",\n",
    "  }\n",
    "\n",
    "\n"
   ]
  },
  {
   "cell_type": "code",
   "execution_count": 46,
   "metadata": {},
   "outputs": [],
   "source": [
    "machine_translation_agent = ConversableAgent(\n",
    "    name=\"translation agent\",\n",
    "    system_message=\"\"\"You are a helpful agent which is capable of doing machine translation \n",
    "    from any language to english,\n",
    "    \"\"\",\n",
    "    llm_config=llm_config,\n",
    "    code_execution_config=False,\n",
    "    human_input_mode=\"NEVER\",\n",
    ")"
   ]
  },
  {
   "cell_type": "code",
   "execution_count": 47,
   "metadata": {},
   "outputs": [],
   "source": [
    "sentiment_analysis_agent = ConversableAgent(\n",
    "    name=\"Sentiment analysis agent\",\n",
    "    system_message=\"\"\"You are a helpful agent given english text you can classify \n",
    "    into one of the sentiment classes. the options are 'positive' 'negative' or 'neutral'\n",
    "    \"\"\",\n",
    "    llm_config=llm_config,\n",
    "    code_execution_config=False,\n",
    "    human_input_mode=\"NEVER\",\n",
    ")"
   ]
  },
  {
   "cell_type": "code",
   "execution_count": 48,
   "metadata": {},
   "outputs": [],
   "source": [
    "output_agent = ConversableAgent(\n",
    "    name=\"Output Agent\",\n",
    "    system_message=\"\"\"You are a helpful sentiment agent that tells the \n",
    "            the customer the setiment of their text and clear explanation why\n",
    "            \"\"\",\n",
    "    llm_config=llm_config,\n",
    "    code_execution_config=False,\n",
    "    human_input_mode=\"NEVER\",\n",
    "    is_termination_msg=lambda msg: \"terminate\" in msg.get(\"content\").lower(),\n",
    ")"
   ]
  },
  {
   "cell_type": "code",
   "execution_count": 49,
   "metadata": {},
   "outputs": [],
   "source": [
    "input_agent = ConversableAgent(\n",
    "    name=\"input_agent\",\n",
    "    llm_config=False,\n",
    "    code_execution_config=False,\n",
    "    human_input_mode=\"ALWAYS\",\n",
    "    is_termination_msg=lambda msg: \"terminate\" in msg.get(\"content\").lower(),\n",
    ")"
   ]
  },
  {
   "cell_type": "code",
   "execution_count": 53,
   "metadata": {},
   "outputs": [],
   "source": [
    "chats = [\n",
    "    {\n",
    "        \"sender\": machine_translation_agent,\n",
    "        \"recipient\": input_agent,\n",
    "        \"message\": \n",
    "            \"Hello, I'm here to help you identify sentiment of a text from any language\",\n",
    "        \"summary_method\": \"reflection_with_llm\",\n",
    "        \"summary_args\": {\n",
    "            \"summary_prompt\" : \"Return the translaton\"\n",
    "                             \"into as JSON object only: \"\n",
    "                             \"{'text': '', 'translation': ''}\",\n",
    "        },\n",
    "        \"max_turns\": 1,\n",
    "        \"clear_history\" : True\n",
    "    },\n",
    "    {\n",
    "        \"sender\": machine_translation_agent, \n",
    "        \"recipient\": sentiment_analysis_agent,\n",
    "        \"summary_method\": \"reflection_with_llm\",\n",
    "        \"summary_args\": {\n",
    "            \"summary_prompt\" : \"Return the translaton\"\n",
    "                             \"into as JSON object only: \"\n",
    "                             \"{'text': '', 'sentiment': ''}\",\n",
    "        },\n",
    "        \"max_turns\": 1,\n",
    "        \"clear_history\" : True\n",
    "    },\n",
    "    {\n",
    "        \"sender\": sentiment_analysis_agent,\n",
    "        \"recipient\": output_agent,\n",
    "        \"message\": \"here is what we know about your text.\",\n",
    "        \"max_turns\": 1,\n",
    "        \"summary_method\": \"reflection_with_llm\",\n",
    "    },\n",
    "]"
   ]
  },
  {
   "cell_type": "code",
   "execution_count": 56,
   "metadata": {},
   "outputs": [
    {
     "name": "stdout",
     "output_type": "stream",
     "text": [
      "\u001b[34m\n",
      "********************************************************************************\u001b[0m\n",
      "\u001b[34mStarting a new chat....\u001b[0m\n",
      "\u001b[34m\n",
      "********************************************************************************\u001b[0m\n",
      "\u001b[33mtranslation agent\u001b[0m (to input_agent):\n",
      "\n",
      "Hello, I'm here to help you identify sentiment of a text from any language\n",
      "\n",
      "--------------------------------------------------------------------------------\n",
      "\u001b[33minput_agent\u001b[0m (to translation agent):\n",
      "\n",
      "ሰላም ለሰው\n",
      "\n",
      "--------------------------------------------------------------------------------\n",
      "\u001b[34m\n",
      "********************************************************************************\u001b[0m\n",
      "\u001b[34mStarting a new chat....\u001b[0m\n",
      "\u001b[34m\n",
      "********************************************************************************\u001b[0m\n",
      "\u001b[33mtranslation agent\u001b[0m (to Sentiment analysis agent):\n",
      "\n",
      "ሰላም ለሰው\n",
      "Context: \n",
      "Sure, I can help with that. Can you please provide the text you want to be translated?\n",
      "Sure! Here is the translation of \"ሰላም ለሰው\" to English: \n",
      "\n",
      "{'text': 'ሰላም ለሰው', 'translation': 'Hello to the person'}\n",
      "\n",
      "--------------------------------------------------------------------------------\n",
      "\u001b[33mSentiment analysis agent\u001b[0m (to translation agent):\n",
      "\n",
      "Based on the given text \"ሰላም ለሰው\" which translates to \"Hello to the person\" I would classify the sentiment as neutral, as it doesn't convey any positive or negative emotion.\n",
      "\n",
      "--------------------------------------------------------------------------------\n",
      "\u001b[34m\n",
      "********************************************************************************\u001b[0m\n",
      "\u001b[34mStarting a new chat....\u001b[0m\n",
      "\u001b[34m\n",
      "********************************************************************************\u001b[0m\n",
      "\u001b[33mSentiment analysis agent\u001b[0m (to Output Agent):\n",
      "\n",
      "here is what we know about your text.\n",
      "Context: \n",
      "Sure, I can help with that. Can you please provide the text you want to be translated?\n",
      "I cannot do sentiment analysis without any input text. Could you please provide the text you want me to analyze?\n",
      "Sure! Here is the translation of \"ሰላም ለሰው\" to English: \n",
      "\n",
      "{'text': 'ሰላም ለሰው', 'translation': 'Hello to the person'}\n",
      "Sure! Here is the JSON object with the translation and sentiment:\n",
      "\n",
      "{'text': 'ሰላም ለሰው', 'sentiment': 'Neutral'}\n",
      "\n",
      "--------------------------------------------------------------------------------\n",
      "\u001b[33mOutput Agent\u001b[0m (to Sentiment analysis agent):\n",
      "\n",
      "Based on the given text \"ሰላም ለሰው\" which translates to \"Hello to the person\" in English, the sentiment analysis output of the text is \"Neutral.\"\n",
      "\n",
      "Neutral sentiment indicates that the text expressed no positive or negative emotions. In other words, it is neither positive nor negative. As the translated text is a simple greeting, it is normal to have a neutral sentiment. Therefore, the sentiment analysis output of your text is neutral.\n",
      "\n",
      "--------------------------------------------------------------------------------\n"
     ]
    }
   ],
   "source": [
    "from autogen import initiate_chats\n",
    "\n",
    "chat_results = initiate_chats(chats)\n"
   ]
  },
  {
   "cell_type": "code",
   "execution_count": 57,
   "metadata": {},
   "outputs": [
    {
     "name": "stdout",
     "output_type": "stream",
     "text": [
      "Sure! Here is the translation of \"ሰላም ለሰው\" to English: \n",
      "\n",
      "{'text': 'ሰላም ለሰው', 'translation': 'Hello to the person'}\n",
      "\n",
      "\n",
      "Sure! Here is the JSON object with the translation and sentiment:\n",
      "\n",
      "{'text': 'ሰላም ለሰው', 'sentiment': 'Neutral'}\n",
      "\n",
      "\n",
      "The given text \"ሰላም ለሰው\" translates to \"Hello to the person\" in English and the sentiment analysis output of the text is \"Neutral\".\n",
      "\n",
      "\n"
     ]
    }
   ],
   "source": [
    "for chat_result in chat_results:\n",
    "    print(chat_result.summary)\n",
    "    print(\"\\n\")\n",
    "    "
   ]
  },
  {
   "cell_type": "code",
   "execution_count": null,
   "metadata": {},
   "outputs": [],
   "source": []
  }
 ],
 "metadata": {
  "kernelspec": {
   "display_name": "Python 3",
   "language": "python",
   "name": "python3"
  },
  "language_info": {
   "codemirror_mode": {
    "name": "ipython",
    "version": 3
   },
   "file_extension": ".py",
   "mimetype": "text/x-python",
   "name": "python",
   "nbconvert_exporter": "python",
   "pygments_lexer": "ipython3",
   "version": "3.10.14"
  }
 },
 "nbformat": 4,
 "nbformat_minor": 2
}
