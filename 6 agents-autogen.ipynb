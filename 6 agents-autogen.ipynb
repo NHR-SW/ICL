{
 "cells": [
  {
   "cell_type": "code",
   "execution_count": 13,
   "metadata": {},
   "outputs": [],
   "source": [
    "# !pip install -U pyautogen openai dataset -qq"
   ]
  },
  {
   "cell_type": "markdown",
   "metadata": {},
   "source": [
    "### [Agent Hospital: A Simulacrum of Hospital with Evolvable Medical Agents](https://arxiv.org/abs/2405.02957)\n",
    "\n"
   ]
  },
  {
   "cell_type": "markdown",
   "metadata": {},
   "source": [
    "<img src=\"images/agents.png\" >"
   ]
  },
  {
   "cell_type": "code",
   "execution_count": 2,
   "metadata": {},
   "outputs": [],
   "source": [
    "import autogen\n",
    "import pprint\n",
    "from autogen import ConversableAgent\n",
    "from llm_config import llm_config\n"
   ]
  },
  {
   "cell_type": "markdown",
   "metadata": {},
   "source": [
    "# chat between agents"
   ]
  },
  {
   "cell_type": "code",
   "execution_count": 3,
   "metadata": {},
   "outputs": [],
   "source": [
    "doctor = ConversableAgent(\n",
    "    name=\"john\",\n",
    "    system_message=\n",
    "    \"you are a medical doctor that advices patients based on symptoms.\",\n",
    "    llm_config=llm_config,\n",
    "    human_input_mode=\"NEVER\",\n",
    ")\n",
    "\n",
    "patient = ConversableAgent(\n",
    "    name='smith',\n",
    "    system_message=\n",
    "    \"You are a patient who went to doctors appointment, tell a doctor what you feel so you get advice from a doctor\",\n",
    "    llm_config=llm_config,\n",
    "    human_input_mode=\"NEVER\",\n",
    ")"
   ]
  },
  {
   "cell_type": "code",
   "execution_count": 4,
   "metadata": {},
   "outputs": [
    {
     "name": "stdout",
     "output_type": "stream",
     "text": [
      "\u001b[33mjohn\u001b[0m (to smith):\n",
      "\n",
      "Hello what can i help you with today?\n",
      "\n",
      "--------------------------------------------------------------------------------\n",
      "\u001b[33msmith\u001b[0m (to john):\n",
      "\n",
      "Hello doctor, thank you for seeing me today. I have been having a persistent cough for a week now and also experiencing shortness of breath. I feel very tired and have been having difficulty sleeping at night. Additionally, I have been experiencing body aches and pains, as well as a headache that won't go away. What do you think could be causing these symptoms and what should I do about them?\n",
      "\n",
      "--------------------------------------------------------------------------------\n",
      "\u001b[33mjohn\u001b[0m (to smith):\n",
      "\n",
      "Hello, I'm sorry to hear that you are not feeling well. Given the symptoms you have described, it is possible that you may have a respiratory or viral infection. However, I cannot rule out the possibility of other underlying health conditions.  The cough, along with shortness of breath could be due to asthma, chronic obstructive pulmonary disease (COPD), or pneumonia as well.\n",
      "\n",
      "I would suggest that you make an appointment with a healthcare provider or visit the nearest Urgent Care center to have a physical exam and possibly a chest X-ray, and blood work done. This will help identify the underlying cause of your symptoms and determine the best course of treatment. Meanwhile, it is important to get plenty of rest, stay hydrated, and avoid exposure to others to avoid spreading the illness if it is contagious. You can also try over-the-counter medications such as cough suppressants and pain relievers to alleviate the symptoms, but I recommend consulting with a pharmacist before taking any medication.\n",
      "\n",
      "Please feel free to ask me any further questions or concerns you may have.\n",
      "\n",
      "--------------------------------------------------------------------------------\n",
      "\u001b[33msmith\u001b[0m (to john):\n",
      "\n",
      "Thank you, doctor, for your advice. I will make an appointment with a healthcare provider or visit the Urgent Care center as soon as possible. I will also try to rest, stay hydrated, and avoid exposure to others. Thanks again for your assistance.\n",
      "\n",
      "--------------------------------------------------------------------------------\n",
      "\u001b[33mjohn\u001b[0m (to smith):\n",
      "\n",
      "You're welcome. Please take care of yourself and do not hesitate to reach out if you have any further questions or concerns.\n",
      "\n",
      "--------------------------------------------------------------------------------\n",
      "\u001b[33msmith\u001b[0m (to john):\n",
      "\n",
      "Thank you, I appreciate it!\n",
      "\n",
      "--------------------------------------------------------------------------------\n",
      "\u001b[33mjohn\u001b[0m (to smith):\n",
      "\n",
      "You're welcome. Stay safe and take care!\n",
      "\n",
      "--------------------------------------------------------------------------------\n",
      "\u001b[33msmith\u001b[0m (to john):\n",
      "\n",
      "Thank you, you too!\n",
      "\n",
      "--------------------------------------------------------------------------------\n"
     ]
    }
   ],
   "source": [
    "chat_result = doctor.initiate_chat(\n",
    "    recipient=patient, \n",
    "    message=\"Hello what can i help you with today?\",\n",
    "    max_turns=4,\n",
    ")"
   ]
  },
  {
   "cell_type": "code",
   "execution_count": 5,
   "metadata": {},
   "outputs": [
    {
     "name": "stdout",
     "output_type": "stream",
     "text": [
      "[{'content': 'Hello what can i help you with today?', 'role': 'assistant'},\n",
      " {'content': 'Hello doctor, thank you for seeing me today. I have been having '\n",
      "             'a persistent cough for a week now and also experiencing '\n",
      "             'shortness of breath. I feel very tired and have been having '\n",
      "             'difficulty sleeping at night. Additionally, I have been '\n",
      "             'experiencing body aches and pains, as well as a headache that '\n",
      "             \"won't go away. What do you think could be causing these symptoms \"\n",
      "             'and what should I do about them?',\n",
      "  'role': 'user'},\n",
      " {'content': \"Hello, I'm sorry to hear that you are not feeling well. Given \"\n",
      "             'the symptoms you have described, it is possible that you may '\n",
      "             'have a respiratory or viral infection. However, I cannot rule '\n",
      "             'out the possibility of other underlying health conditions.  The '\n",
      "             'cough, along with shortness of breath could be due to asthma, '\n",
      "             'chronic obstructive pulmonary disease (COPD), or pneumonia as '\n",
      "             'well.\\n'\n",
      "             '\\n'\n",
      "             'I would suggest that you make an appointment with a healthcare '\n",
      "             'provider or visit the nearest Urgent Care center to have a '\n",
      "             'physical exam and possibly a chest X-ray, and blood work done. '\n",
      "             'This will help identify the underlying cause of your symptoms '\n",
      "             'and determine the best course of treatment. Meanwhile, it is '\n",
      "             'important to get plenty of rest, stay hydrated, and avoid '\n",
      "             'exposure to others to avoid spreading the illness if it is '\n",
      "             'contagious. You can also try over-the-counter medications such '\n",
      "             'as cough suppressants and pain relievers to alleviate the '\n",
      "             'symptoms, but I recommend consulting with a pharmacist before '\n",
      "             'taking any medication.\\n'\n",
      "             '\\n'\n",
      "             'Please feel free to ask me any further questions or concerns you '\n",
      "             'may have.',\n",
      "  'role': 'assistant'},\n",
      " {'content': 'Thank you, doctor, for your advice. I will make an appointment '\n",
      "             'with a healthcare provider or visit the Urgent Care center as '\n",
      "             'soon as possible. I will also try to rest, stay hydrated, and '\n",
      "             'avoid exposure to others. Thanks again for your assistance.',\n",
      "  'role': 'user'},\n",
      " {'content': \"You're welcome. Please take care of yourself and do not hesitate \"\n",
      "             'to reach out if you have any further questions or concerns.',\n",
      "  'role': 'assistant'},\n",
      " {'content': 'Thank you, I appreciate it!', 'role': 'user'},\n",
      " {'content': \"You're welcome. Stay safe and take care!\", 'role': 'assistant'},\n",
      " {'content': 'Thank you, you too!', 'role': 'user'}]\n"
     ]
    }
   ],
   "source": [
    "pprint.pprint(chat_result.chat_history)"
   ]
  },
  {
   "cell_type": "markdown",
   "metadata": {},
   "source": [
    "# Sequencial agent for task"
   ]
  },
  {
   "cell_type": "code",
   "execution_count": 6,
   "metadata": {},
   "outputs": [],
   "source": [
    "machine_translation_agent = ConversableAgent(\n",
    "    name=\"translation agent\",\n",
    "    system_message=\"\"\"You are a helpful agent which is capable of doing machine translation \n",
    "    from any language to english,\n",
    "    \"\"\",\n",
    "    llm_config=llm_config,\n",
    "    code_execution_config=False,\n",
    "    human_input_mode=\"NEVER\",\n",
    ")"
   ]
  },
  {
   "cell_type": "code",
   "execution_count": 7,
   "metadata": {},
   "outputs": [],
   "source": [
    "sentiment_analysis_agent = ConversableAgent(\n",
    "    name=\"Sentiment analysis agent\",\n",
    "    system_message=\"\"\"You are a helpful agent given english text you can classify \n",
    "    into one of the sentiment classes. the options are 'positive' 'negative' or 'neutral'\n",
    "    \"\"\",\n",
    "    llm_config=llm_config,\n",
    "    code_execution_config=False,\n",
    "    human_input_mode=\"NEVER\",\n",
    ")\n",
    "\n"
   ]
  },
  {
   "cell_type": "code",
   "execution_count": 8,
   "metadata": {},
   "outputs": [],
   "source": [
    "output_agent = ConversableAgent(\n",
    "    name=\"Output Agent\",\n",
    "    system_message=\"\"\"You are a helpful sentiment agent that tells the \n",
    "            the customer the setiment of their text and clear explanation why\n",
    "            \"\"\",\n",
    "    llm_config=llm_config,\n",
    "    code_execution_config=False,\n",
    "    human_input_mode=\"NEVER\",\n",
    "    is_termination_msg=lambda msg: \"terminate\" in msg.get(\"content\").lower(),\n",
    ")"
   ]
  },
  {
   "cell_type": "code",
   "execution_count": 9,
   "metadata": {},
   "outputs": [],
   "source": [
    "input_agent = ConversableAgent(\n",
    "    name=\"input_agent\",\n",
    "    llm_config=False,\n",
    "    code_execution_config=False,\n",
    "    human_input_mode=\"ALWAYS\",\n",
    "    is_termination_msg=lambda msg: \"terminate\" in msg.get(\"content\").lower(),\n",
    ")"
   ]
  },
  {
   "cell_type": "code",
   "execution_count": 10,
   "metadata": {},
   "outputs": [],
   "source": [
    "chats = [\n",
    "    {\n",
    "        \"sender\": machine_translation_agent,\n",
    "        \"recipient\": input_agent,\n",
    "        \"message\": \n",
    "            \"Hello, I'm here to help you identify sentiment of a text from any language\",\n",
    "        \"summary_method\": \"reflection_with_llm\",\n",
    "        \"summary_args\": {\n",
    "            \"summary_prompt\" : \"Return the translaton\"\n",
    "                             \"into as JSON object only: \"\n",
    "                             \"{'text': '', 'translation': ''}\",\n",
    "        },\n",
    "        \"max_turns\": 1,\n",
    "    },\n",
    "    {\n",
    "        \"sender\": machine_translation_agent, \n",
    "        \"recipient\": sentiment_analysis_agent,\n",
    "        \"summary_method\": \"reflection_with_llm\",\n",
    "        \"message\": \n",
    "            \"i will take the json and work on creating a sentoment from it\",\n",
    "        \"summary_args\": {\n",
    "            \"summary_prompt\" : \"Return the translaton\"\n",
    "                             \"into as JSON object only: \"\n",
    "                             \"{'text': '', 'sentiment': ''}\",\n",
    "        },\n",
    "        \"max_turns\": 1,\n",
    "    },\n",
    "    {\n",
    "        \"sender\": sentiment_analysis_agent,\n",
    "        \"recipient\": output_agent,\n",
    "        \"message\": \"here is what we know about your text.\",\n",
    "        \"max_turns\": 1,\n",
    "        \"summary_method\": \"reflection_with_llm\",\n",
    "    },\n",
    "]"
   ]
  },
  {
   "cell_type": "code",
   "execution_count": 11,
   "metadata": {},
   "outputs": [
    {
     "name": "stdout",
     "output_type": "stream",
     "text": [
      "\u001b[34m\n",
      "********************************************************************************\u001b[0m\n",
      "\u001b[34mStarting a new chat....\u001b[0m\n",
      "\u001b[34m\n",
      "********************************************************************************\u001b[0m\n",
      "\u001b[33mtranslation agent\u001b[0m (to input_agent):\n",
      "\n",
      "Hello, I'm here to help you identify sentiment of a text from any language\n",
      "\n",
      "--------------------------------------------------------------------------------\n",
      "\u001b[33minput_agent\u001b[0m (to translation agent):\n",
      "\n",
      "No entiendo\n",
      "\n",
      "--------------------------------------------------------------------------------\n",
      "\u001b[34m\n",
      "********************************************************************************\u001b[0m\n",
      "\u001b[34mStarting a new chat....\u001b[0m\n",
      "\u001b[34m\n",
      "********************************************************************************\u001b[0m\n",
      "\u001b[33mtranslation agent\u001b[0m (to Sentiment analysis agent):\n",
      "\n",
      "i will take the json and work on creating a sentoment from it\n",
      "Context: \n",
      "Okay. Here's an example JSON object with a translation:\n",
      "\n",
      "{'text': 'No entiendo', 'translation': 'I do not understand'}\n",
      "\n",
      "--------------------------------------------------------------------------------\n",
      "\u001b[33mSentiment analysis agent\u001b[0m (to translation agent):\n",
      "\n",
      "Using the provided JSON object, it seems like a response to a query or a statement.\n",
      "Based on the English translation, the text does not seem to be expressing either positive or negative sentiment. Rather, it sounds like a neutral response to something that might have been said or presented.\n",
      "Therefore, the sentiment class for this text can be classified as \"neutral\".\n",
      "\n",
      "--------------------------------------------------------------------------------\n",
      "\u001b[34m\n",
      "********************************************************************************\u001b[0m\n",
      "\u001b[34mStarting a new chat....\u001b[0m\n",
      "\u001b[34m\n",
      "********************************************************************************\u001b[0m\n",
      "\u001b[33mSentiment analysis agent\u001b[0m (to Output Agent):\n",
      "\n",
      "here is what we know about your text.\n",
      "Context: \n",
      "Okay. Here's an example JSON object with a translation:\n",
      "\n",
      "{'text': 'No entiendo', 'translation': 'I do not understand'}\n",
      "Here's the JSON object with the translation and an empty sentiment field:\n",
      "\n",
      "{'text': 'I do not understand', 'sentiment': ''}\n",
      "\n",
      "--------------------------------------------------------------------------------\n",
      "\u001b[33mOutput Agent\u001b[0m (to Sentiment analysis agent):\n",
      "\n",
      "Based on the text you have provided, the sentiment is neutral. Neither positive nor negative connotations are evident in the words. The text simply describes a JSON object and its content, without expressing any specific emotion or opinion. The use of the word \"Okay\" in the beginning also indicates a neutral or nonchalant tone. It is important to note that sentiment analysis is based on the interpretation of language patterns and cannot always capture the full intention or context of the speaker.\n",
      "\n",
      "--------------------------------------------------------------------------------\n"
     ]
    }
   ],
   "source": [
    "from autogen import initiate_chats\n",
    "\n",
    "chat_results = initiate_chats(chats)\n"
   ]
  },
  {
   "cell_type": "code",
   "execution_count": 12,
   "metadata": {},
   "outputs": [
    {
     "name": "stdout",
     "output_type": "stream",
     "text": [
      "Okay. Here's an example JSON object with a translation:\n",
      "\n",
      "{'text': 'No entiendo', 'translation': 'I do not understand'}\n",
      "\n",
      "\n",
      "Here's the JSON object with the translation and an empty sentiment field:\n",
      "\n",
      "{'text': 'I do not understand', 'sentiment': ''}\n",
      "\n",
      "\n",
      "The text provides an example JSON object with a translation and an empty sentiment field, indicating a neutral sentiment.\n",
      "\n",
      "\n"
     ]
    }
   ],
   "source": [
    "for chat_result in chat_results:\n",
    "    print(chat_result.summary)\n",
    "    print(\"\\n\")\n",
    "    "
   ]
  },
  {
   "cell_type": "code",
   "execution_count": null,
   "metadata": {},
   "outputs": [],
   "source": []
  }
 ],
 "metadata": {
  "kernelspec": {
   "display_name": "Python 3",
   "language": "python",
   "name": "python3"
  },
  "language_info": {
   "codemirror_mode": {
    "name": "ipython",
    "version": 3
   },
   "file_extension": ".py",
   "mimetype": "text/x-python",
   "name": "python",
   "nbconvert_exporter": "python",
   "pygments_lexer": "ipython3",
   "version": "3.10.14"
  }
 },
 "nbformat": 4,
 "nbformat_minor": 2
}
